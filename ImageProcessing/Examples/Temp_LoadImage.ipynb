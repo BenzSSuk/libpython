{
 "cells": [
  {
   "cell_type": "code",
   "execution_count": null,
   "metadata": {},
   "outputs": [],
   "source": [
    "import pandas as pd \n",
    "import cv2\n",
    "import os\n",
    "import sys\n",
    "import matplotlib.pyplot as plt\n",
    "import numpy as np\n",
    "\n",
    "# pathCustom = ['/Users/pannawis/Projects/01_SmartMeter/SmartPowerMeter_SW/ImageProcessing',\n",
    "#             '/Users/pannawis/Projects/01_SmartMeter/SmartPowerMeter_SW/SignalProcessing']\n",
    "# for ipath in pathCustom:\n",
    "#     if not(ipath in sys.path):\n",
    "#         print(f'Adding path:{ipath}')\n",
    "#         sybs.path.append(ipath)\n",
    "\n",
    "folderProj = os.getcwd()\n",
    "# folderProj = ['/Users/pannawis/Projects/01_SmartMeter/SmartPowerMeter_SW']\n",
    "if not(folderProj in sys.path):\n",
    "    print(f'Adding project path...')\n",
    "    sys.path.append(folderProj)\n",
    "\n",
    "# import wedoimage as wedoimg\n",
    "# from wedoimage import*\n",
    "import ImageProcessing as wedoimg\n",
    "# import SignalProcessing as wedosig\n",
    "\n",
    "folderImg = os.path.join(folderProj, 'images')"
   ]
  },
  {
   "cell_type": "code",
   "execution_count": null,
   "metadata": {},
   "outputs": [],
   "source": [
    "print('Listing file...')\n",
    "folderLoad = os.path.join(folderImg,'stand01')\n",
    "listImg_abs, listFil_folder, listImg_name = wedoimg.findFile(folderLoad,'*.jpg',0)\n",
    "nImgs = len(listImg_name)\n",
    "# writeImg = int(input('write image ?\\n>'))\n",
    "# writeImg =1\n",
    "\n",
    "countImg = -1\n",
    "for pathImg in listImg_name:\n",
    "    countImg = countImg + 1\n",
    "    print(f'{countImg+1}/{nImgs} {pathImg}')\n",
    "\n",
    "# nameImg = listImg_name[countImg]\n",
    "# nameImgWithoutExtend = nameImg.split('.')[0]"
   ]
  },
  {
   "cell_type": "code",
   "execution_count": null,
   "metadata": {},
   "outputs": [],
   "source": [
    "iload = 0\n",
    "img_read = cv2.imread(listImg_abs[iload],0)"
   ]
  }
 ],
 "metadata": {
  "kernelspec": {
   "display_name": "Python 3.8.8 64-bit ('base': conda)",
   "name": "python388jvsc74a57bd026e2489f5a8f33b43aa2600a0b5762d3eb6db82ba8a1c61c5a60ff3291cb7e02"
  },
  "language_info": {
   "name": "python",
   "version": ""
  },
  "orig_nbformat": 2
 },
 "nbformat": 4,
 "nbformat_minor": 2
}
